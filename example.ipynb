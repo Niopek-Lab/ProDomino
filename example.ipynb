{
 "cells": [
  {
   "cell_type": "markdown",
   "source": [
    "# ProDomino Example Ntebook"
   ],
   "metadata": {
    "collapsed": false
   },
   "id": "2e2d1c10da0ff7a9"
  },
  {
   "cell_type": "code",
   "outputs": [],
   "source": [
    "import numpy as np\n",
    "import os\n",
    "import sys"
   ],
   "metadata": {
    "collapsed": false
   },
   "id": "7c1a56306749788"
  },
  {
   "cell_type": "code",
   "outputs": [],
   "source": [
    "sys.path.append('src/ProDomino')\n",
    "from ProDomino import Embedder, ProDomino"
   ],
   "metadata": {
    "collapsed": false
   },
   "id": "290f3c623fc9b21c"
  },
  {
   "cell_type": "code",
   "outputs": [],
   "source": [
    "mlp_chkpt = 'path/to/checkpoint'\n",
    "\n",
    "structure = 'path/to/pdb_file'\n",
    "seq = ''"
   ],
   "metadata": {
    "collapsed": false
   },
   "id": "7829c15030d8811c"
  },
  {
   "cell_type": "code",
   "outputs": [],
   "source": [
    "embedder = Embedder()\n",
    "model = ProDomino(\n",
    "    mlp_chkpt,'mini_3b_mlp')"
   ],
   "metadata": {
    "collapsed": false
   },
   "id": "b8ed764e51ef053b"
  },
  {
   "cell_type": "code",
   "outputs": [],
   "source": [
    "embed = embedder.predict_embedding(seq)\n",
    "pred = model.predict_insertion_sites(embed)"
   ],
   "metadata": {
    "collapsed": false
   },
   "id": "d5f3f2a4653aaa5e"
  },
  {
   "cell_type": "code",
   "outputs": [],
   "source": [
    "pred.add_sequence(seq)\n",
    "pred.show_trace(show_top_hits=True)"
   ],
   "metadata": {
    "collapsed": false
   },
   "id": "84d6293d2ddbdc3f"
  },
  {
   "cell_type": "code",
   "outputs": [],
   "source": [
    "pred.add_pdb_file(structure,shift=0,chain_id='A')\n",
    "pred.generate_insertion_site_pdb_file()\n",
    "pred.show_pdb()"
   ],
   "metadata": {
    "collapsed": false
   },
   "id": "ac19294c92b248e1"
  },
  {
   "cell_type": "markdown",
   "source": [
    "### Saving"
   ],
   "metadata": {
    "collapsed": false
   },
   "id": "b5816d51609e1920"
  },
  {
   "cell_type": "code",
   "outputs": [],
   "source": [
    "from Bio.PDB import PDBParser, PDBIO\n",
    "\n",
    "output_path = ''\n",
    "pdbio = PDBIO()\n",
    "pdbio.set_structure(pred.pdb)\n",
    "name = 'File_name'\n",
    "os.makedirs(os.path.join(output_path,name),exist_ok=True)\n",
    "pdbio.save(os.path.join(output_path,name,f'{name}.pdb'))\n",
    "np.save(os.path.join(output_path,name,f'{name}.npy'),pred.predicted_sites)"
   ],
   "metadata": {
    "collapsed": false
   },
   "id": "fd13a60fe24aa7"
  }
 ],
 "metadata": {
  "kernelspec": {
   "display_name": "Python 3",
   "language": "python",
   "name": "python3"
  },
  "language_info": {
   "codemirror_mode": {
    "name": "ipython",
    "version": 2
   },
   "file_extension": ".py",
   "mimetype": "text/x-python",
   "name": "python",
   "nbconvert_exporter": "python",
   "pygments_lexer": "ipython2",
   "version": "2.7.6"
  }
 },
 "nbformat": 4,
 "nbformat_minor": 5
}
